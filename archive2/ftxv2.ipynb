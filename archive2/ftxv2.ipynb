{
 "cells": [
  {
   "cell_type": "code",
   "execution_count": 2,
   "metadata": {},
   "outputs": [],
   "source": [
    "import ccxt"
   ]
  },
  {
   "cell_type": "code",
   "execution_count": null,
   "metadata": {},
   "outputs": [],
   "source": []
  },
  {
   "cell_type": "code",
   "execution_count": 3,
   "metadata": {},
   "outputs": [
    {
     "name": "stdout",
     "output_type": "stream",
     "text": [
      "{'id': 'ETH/USD', 'symbol': 'ETH/USD', 'base': 'ETH', 'quote': 'USD', 'baseId': 'ETH', 'quoteId': 'USD', 'active': True, 'type': 'spot', 'linear': None, 'inverse': None, 'spot': True, 'swap': False, 'future': False, 'option': False, 'margin': True, 'contract': False, 'contractSize': 1.0, 'expiry': None, 'expiryDatetime': None, 'optionType': None, 'strike': None, 'settle': None, 'settleId': None, 'precision': {'amount': 0.001, 'price': 0.1}, 'limits': {'leverage': {'min': 1.0, 'max': 20.0}, 'amount': {'min': 0.001, 'max': None}, 'price': {'min': None, 'max': None}, 'cost': {'min': None, 'max': None}}, 'info': {'name': 'ETH/USD', 'enabled': True, 'postOnly': False, 'priceIncrement': '0.1', 'sizeIncrement': '0.001', 'minProvideSize': '0.001', 'last': '1192.1', 'bid': '1189.5', 'ask': '1190.4', 'price': '1190.4', 'type': 'spot', 'futureType': None, 'baseCurrency': 'ETH', 'quoteCurrency': 'USD', 'underlying': None, 'restricted': False, 'highLeverageFeeExempt': True, 'largeOrderThreshold': '5000.0', 'change1h': '-0.02506142506142506', 'change24h': '-0.02209808592787316', 'changeBod': '-0.011295681063122924', 'quoteVolume24h': '380825355.1094', 'volumeUsd24h': '380825355.1094', 'priceHigh24h': '1280.8', 'priceLow24h': '1072.7'}, 'percentage': True, 'tierBased': True, 'maker': 0.0002, 'taker': 0.0007, 'tiers': {'taker': [[0.0, 0.0007], [2000000.0, 0.0006], [5000000.0, 0.00055], [10000000.0, 0.0005], [25000000.0, 0.0045], [50000000.0, 0.0004]], 'maker': [[0.0, 0.0002], [2000000.0, 0.00015], [5000000.0, 0.0001], [10000000.0, 5e-05], [25000000.0, 0.0], [50000000.0, 0.0]]}}\n"
     ]
    }
   ],
   "source": [
    "import ccxt\n",
    "#ftx api key and secret\n",
    "apiKey = 'G81GdgkuuKSEirOzjEWtzHrtwA80185s4UVCVNBj'\n",
    "apiSecret = 'rFVklFWKa-UypGmnG61Jl4YzT4zkCW733DLA8JN5'\n",
    "ftx = ccxt.ftxus()\n",
    "markets = ftx.load_markets()\n",
    "# print(binance.id, markets)\n",
    "# orderbookBTC = ftx.fetchOrderBooks('BTC/USDT', limit = 20)\n",
    "# print(orderbookBTC)\n",
    "ethusd = ftx.markets['ETH/USD']\n",
    "print(ethusd)\n"
   ]
  },
  {
   "cell_type": "markdown",
   "metadata": {},
   "source": [
    "Bitcoin Markets available"
   ]
  },
  {
   "cell_type": "code",
   "execution_count": 4,
   "metadata": {},
   "outputs": [
    {
     "name": "stdout",
     "output_type": "stream",
     "text": [
      "['AAVE/USD', 'AAVE/USDT', 'ALGO/USD', 'ALGO/USDT', 'AUD/USD', 'AVAX/BTC', 'AVAX/USD', 'AVAX/USDT', 'BAT/USD', 'BCH/BTC', 'BCH/USD', 'BCH/USDT', 'BRZ/USD', 'BRZ/USDT', 'BTC/AUD', 'BTC/BRZ', 'BTC/EUR', 'BTC/USD', 'BTC/USDT', 'CAD/USD', 'CUSDT/USD', 'CUSDT/USDT', 'DAI/USD', 'DAI/USDT', 'DOGE/BTC', 'DOGE/USD', 'DOGE/USDT', 'ETH/AUD', 'ETH/BTC', 'ETH/EUR', 'ETH/USD', 'ETH/USDT', 'EUR/USD', 'GBP/USD', 'GRT/USD', 'KSHIB/USD', 'LINK/BTC', 'LINK/USD', 'LINK/USDT', 'LTC/BTC', 'LTC/USD', 'LTC/USDT', 'MATIC/BTC', 'MATIC/USD', 'MKR/USD', 'NEAR/USD', 'NEAR/USDT', 'PAXG/USD', 'PAXG/USDT', 'SHIB/USD', 'SOL/BTC', 'SOL/USD', 'SOL/USDT', 'SUSHI/BTC', 'SUSHI/USD', 'SUSHI/USDT', 'TRX/USD', 'TRX/USDT', 'UNI/BTC', 'UNI/USD', 'UNI/USDT', 'USDT/USD', 'WBTC/USD', 'YFI/BTC', 'YFI/USD', 'YFI/USDT']\n"
     ]
    }
   ],
   "source": [
    "ftxMarkets = ftx.symbols\n",
    "print(ftxMarkets)"
   ]
  },
  {
   "cell_type": "code",
   "execution_count": 5,
   "metadata": {},
   "outputs": [
    {
     "name": "stdout",
     "output_type": "stream",
     "text": [
      "['AVAX', 'BCH', 'DOGE', 'ETH', 'LINK', 'LTC', 'MATIC', 'SOL', 'SUSHI', 'UNI', 'YFI']\n"
     ]
    }
   ],
   "source": [
    "ftxMarkets = ftx.symbols\n",
    "denominator = '/BTC'\n",
    "BTCmarkets = []\n",
    "# print(ftxMarkets)\n",
    "for entry in ftxMarkets:\n",
    "    if entry.endswith(denominator):\n",
    "        BTCmarkets.append(entry)\n",
    "BTCnumerators = [s.replace(denominator, \"\") for s in BTCmarkets]\n",
    "\n",
    "print(BTCnumerators)\n",
    "# print(ftx.symbols)"
   ]
  },
  {
   "cell_type": "markdown",
   "metadata": {},
   "source": [
    "USDT markets available"
   ]
  },
  {
   "cell_type": "code",
   "execution_count": 6,
   "metadata": {},
   "outputs": [
    {
     "name": "stdout",
     "output_type": "stream",
     "text": [
      "usdt denoms:  ['AAVE', 'ALGO', 'AVAX', 'BCH', 'BRZ', 'BTC', 'CUSDT', 'DAI', 'DOGE', 'ETH', 'LINK', 'LTC', 'NEAR', 'PAXG', 'SOL', 'SUSHI', 'TRX', 'UNI', 'YFI']\n"
     ]
    }
   ],
   "source": [
    "ftxMarkets = ftx.symbols\n",
    "# print(ftxMarkets)\n",
    "denominator = '/USDT'\n",
    "USDTmarkets = []\n",
    "for entry in ftxMarkets:\n",
    "    if entry.endswith(denominator):\n",
    "        USDTmarkets.append(entry)\n",
    "USDTnumerators = [s.replace(denominator, \"\") for s in USDTmarkets]\n",
    "print('usdt denoms: ', USDTnumerators)"
   ]
  },
  {
   "cell_type": "markdown",
   "metadata": {},
   "source": [
    "shared markets between bitcoin and usdt"
   ]
  },
  {
   "cell_type": "code",
   "execution_count": 7,
   "metadata": {},
   "outputs": [
    {
     "name": "stdout",
     "output_type": "stream",
     "text": [
      "['DOGE', 'UNI', 'LINK', 'ETH', 'AVAX', 'SUSHI', 'YFI', 'BCH', 'LTC', 'SOL']\n"
     ]
    }
   ],
   "source": [
    "sharedMarkets = list(set(USDTnumerators) & set(BTCnumerators))\n",
    "print(sharedMarkets)"
   ]
  },
  {
   "cell_type": "markdown",
   "metadata": {},
   "source": [
    "starting to work out the arbitrage logic"
   ]
  },
  {
   "cell_type": "code",
   "execution_count": 8,
   "metadata": {},
   "outputs": [
    {
     "name": "stdout",
     "output_type": "stream",
     "text": [
      "[[3.682, 0.5], [3.684, 131.85], [3.693, 9.0], [3.695, 34.65], [3.696, 30.0], [3.702, 57.0], [3.706, 169.4], [3.707, 1000.0], [3.709, 373.0], [3.71, 118.0], [3.716, 0.5], [3.724, 199.15], [3.75, 0.5], [3.756, 195.1], [3.768, 224.45], [3.784, 0.5], [3.818, 0.5], [3.823, 279.75], [3.852, 0.5], [3.861, 5.9]]\n",
      "3.682 , 0.5 , $:  1.841  available\n",
      "3.684 , 131.85 , $:  485.7354  available\n",
      "3.693 , 9.0 , $:  33.237  available\n",
      "3.695 , 34.65 , $:  128.03175  available\n",
      "3.696 , 30.0 , $:  110.88000000000001  available\n"
     ]
    }
   ],
   "source": [
    "starting = 100\n",
    "uni_usdt = ftx.fetchOrderBook('UNI/USDT')\n",
    "print(uni_usdt['asks'])\n",
    "for i in uni_usdt['asks'][:5]:\n",
    "    print(i[0], ',', i[1], ',', '$: ', i[0] * i[1], ' available')"
   ]
  },
  {
   "cell_type": "code",
   "execution_count": 10,
   "metadata": {},
   "outputs": [
    {
     "name": "stdout",
     "output_type": "stream",
     "text": [
      "we now have\n",
      "[27.100271002710027, 'UNI']\n",
      "spend all that dough\n",
      "we now have\n",
      "[0.004495934959349594, 'BTC']\n",
      "spend all that dough\n",
      "[[22148.0, 0.229], [22147.0, 0.17], [22146.0, 0.0891], [22143.0, 0.1465], [22142.0, 0.2568], [22141.0, 0.0055], [22138.0, 0.2034], [22132.0, 0.2964], [22111.0, 0.535], [22102.0, 0.4066], [22096.0, 10.6383], [22081.0, 0.5421], [22074.0, 9.2922], [22059.0, 12.4257], [22057.0, 3.5763], [22041.0, 1.11], [22017.0, 3.35], [22015.0, 11.8541], [22011.0, 1.4093], [22007.0, 14.0169]]\n",
      "we now have\n",
      "[99.5759674796748, 'USDT']\n",
      "get that money!\n",
      "final dough 99.5759674796748\n"
     ]
    }
   ],
   "source": [
    "#loop starting and ending in usdt, alt then btc\n",
    "starting_dough = [100, 'usdt']\n",
    "uni_usdt = ftx.fetchOrderBook('UNI/USDT')\n",
    "uni_usdt_asks = uni_usdt['asks']\n",
    "\n",
    "# print(uni_usdt_asks[0])\n",
    "\n",
    "# TODO add logic where if we have more money than the first bid then we place an order lower\n",
    "if starting_dough[0] > (uni_usdt_asks[0][0]*uni_usdt_asks[0][1]):\n",
    "    print('we need to go deeper')\n",
    "else:\n",
    "    print('we now have')\n",
    "    mid1_dough = [starting_dough[0]/uni_usdt_asks[0][0], 'UNI']\n",
    "    print(mid1_dough)\n",
    "    print('spend all that dough')\n",
    "\n",
    "#logic for second trade newCoin to bitcoin\n",
    "uni_btc = ftx.fetchOrderBook('UNI/BTC')\n",
    "uni_btc_bids = uni_btc['bids']\n",
    "# print(uni_btc_bids)\n",
    "\n",
    "if mid1_dough[0] > (uni_btc_bids[0][1]):\n",
    "    print('we need to go deeper')\n",
    "else:\n",
    "    print('we now have')\n",
    "    mid2_dough = [mid1_dough[0]*uni_btc_bids[0][0], 'BTC']\n",
    "    print(mid2_dough)\n",
    "    print('spend all that dough')\n",
    "\n",
    "#logic for third trade bitcoin back to usdt\n",
    "btc_usdt = ftx.fetchOrderBook('BTC/USDT')\n",
    "btc_usdt_bids = btc_usdt['bids']\n",
    "print(btc_usdt_bids)\n",
    "\n",
    "if mid2_dough[0] > (btc_usdt_bids[0][1]):\n",
    "    print('we need to go deeper')\n",
    "else:\n",
    "    print('we now have')\n",
    "    final_dough = [mid2_dough[0]*btc_usdt_bids[0][0], 'USDT']\n",
    "    print(final_dough)\n",
    "    print('get that money!')\n",
    "\n",
    "print('final dough', final_dough[0])\n",
    "\n",
    "\n"
   ]
  },
  {
   "cell_type": "code",
   "execution_count": 12,
   "metadata": {},
   "outputs": [
    {
     "name": "stdout",
     "output_type": "stream",
     "text": [
      "we now have\n",
      "[0.004413257425305618, 'BTC']\n",
      "spend all that dough\n",
      "[[0.0001676, 26.55], [0.00016765, 46.4], [0.00016775, 66.35], [0.0001678, 46.5], [0.00016825, 25.6], [0.0001684, 0.5], [0.00016845, 9.0], [0.0001685, 45.05], [0.00016855, 7.8], [0.0001692, 24.0], [0.0001693, 191.8], [0.00017035, 141.65], [0.00017075, 0.5], [0.00017205, 272.85], [0.00017315, 0.5], [0.00017355, 337.45], [0.00017455, 396.95], [0.0001755, 0.5], [0.00017595, 100.6], [0.00017715, 354.25]]\n",
      "we now have mid2\n",
      "[26.33208487652517, 'UNI']\n",
      "spend all that dough\n",
      "we now have\n",
      "[99.21929581474683, 'USDT']\n",
      "get that money!\n",
      "final dough 99.21929581474683\n"
     ]
    }
   ],
   "source": [
    "\n",
    "#FIRST TRADE\n",
    "#loop starting and ending in usdt, BTC then ALT\n",
    "starting_dough = [100, 'usdt']\n",
    "btc_usdt = ftx.fetchOrderBook('BTC/USDT')\n",
    "btc_usdt_asks = btc_usdt['asks']\n",
    "\n",
    "# print(btc_usdt_asks[0])\n",
    "# TODO add logic where if we have more money than the first bid then we place an order lower\n",
    "if starting_dough[0] > (btc_usdt_asks[0][0]*btc_usdt_asks[0][1]):\n",
    "    print('we need to go deeper')\n",
    "else:\n",
    "    print('we now have')\n",
    "    mid1_dough = [starting_dough[0]/btc_usdt_asks[0][0], 'BTC']\n",
    "    print(mid1_dough)\n",
    "    print('spend all that dough')\n",
    "\n",
    "\n",
    "#SECOND TRADE\n",
    "#logic for second trade BTC to newCoin\n",
    "uni_btc = ftx.fetchOrderBook('UNI/BTC')\n",
    "uni_btc_asks = uni_btc['asks']\n",
    "print(uni_btc_asks)\n",
    "\n",
    "if mid1_dough[0] > (uni_btc_asks[0][0]*uni_btc_asks[0][1]):\n",
    "    print('we need to go deeper')\n",
    "else:\n",
    "    print('we now have mid2')\n",
    "    mid2_dough = [mid1_dough[0]/uni_btc_asks[0][0], 'UNI']\n",
    "    print(mid2_dough)\n",
    "    print('spend all that dough')\n",
    "\n",
    "# THIRD TRADE\n",
    "#logic for third trade bitcoin back to usdt\n",
    "uni_usdt = ftx.fetchOrderBook('UNI/USDT')\n",
    "uni_usdt_bids = uni_usdt['bids']\n",
    "# print(uni_usdt_bids)\n",
    "\n",
    "if mid2_dough[0] > (uni_usdt_bids[0][1]):\n",
    "    print('we need to go deeper')\n",
    "else:\n",
    "    print('we now have')\n",
    "    final_dough = [mid2_dough[0]*uni_usdt_bids[0][0], 'USDT']\n",
    "    print(final_dough)\n",
    "    print('get that money!')\n",
    "\n",
    "print('final dough', final_dough[0])\n",
    "\n"
   ]
  },
  {
   "cell_type": "code",
   "execution_count": null,
   "metadata": {},
   "outputs": [
    {
     "name": "stdout",
     "output_type": "stream",
     "text": [
      "{'symbol': 'UNI/USDT', 'bids': [[4.08, 2557.6], [4.076, 3665.2], [4.072, 3668.8], [4.071, 163.75], [4.07, 3670.35], [4.06, 9.0], [4.057, 200.75], [4.056, 375.5], [4.05, 470.0], [4.038, 1670.0], [4.024, 295.75], [4.022, 0.5], [4.02, 1850.0], [4.014, 4.5], [4.013, 86.0], [4.001, 145.0], [3.988, 0.5], [3.983, 319.7], [3.981, 319.5], [3.978, 37.0]], 'asks': [[4.106, 550.2], [4.108, 1421.05], [4.11, 549.65], [4.115, 1100.95], [4.117, 1100.5], [4.124, 198.15], [4.128, 9.0], [4.131, 30.0], [4.136, 377.0], [4.145, 1550.0], [4.146, 56.0], [4.147, 480.0], [4.15, 142.0], [4.154, 288.35], [4.158, 0.5], [4.162, 1790.0], [4.172, 301.6], [4.174, 316.1], [4.192, 0.5], [4.226, 781.5]], 'timestamp': None, 'datetime': None, 'nonce': None}\n"
     ]
    }
   ],
   "source": [
    "# print(ftx.fetchOrderBook(str(ftx.symbols[0])))\n",
    "\n",
    "print(ftx.fetchOrderBook('UNI/USDT'))"
   ]
  }
 ],
 "metadata": {
  "interpreter": {
   "hash": "deb2fc3b7a79c00288712747267ecd2a2b552c99a2db2f88ef7b866d6588bf0d"
  },
  "kernelspec": {
   "display_name": "Python 3.9.7 ('base')",
   "language": "python",
   "name": "python3"
  },
  "language_info": {
   "codemirror_mode": {
    "name": "ipython",
    "version": 3
   },
   "file_extension": ".py",
   "mimetype": "text/x-python",
   "name": "python",
   "nbconvert_exporter": "python",
   "pygments_lexer": "ipython3",
   "version": "3.9.7"
  },
  "orig_nbformat": 4
 },
 "nbformat": 4,
 "nbformat_minor": 2
}
