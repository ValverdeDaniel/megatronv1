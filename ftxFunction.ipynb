{
 "cells": [
  {
   "cell_type": "code",
   "execution_count": 36,
   "metadata": {},
   "outputs": [
    {
     "name": "stdout",
     "output_type": "stream",
     "text": [
      "we now have\n",
      "[26.824034334763947, 'UNI']\n",
      "spend all that dough\n",
      "we now have\n",
      "[0.00445681330472103, 'BTC']\n",
      "spend all that dough\n",
      "[[22251.0, 0.2287], [22247.0, 0.281], [22245.0, 0.3151], [22239.0, 0.045], [22224.0, 0.1364], [22218.0, 0.09], [22211.0, 0.088], [22197.0, 0.135], [22191.0, 0.2871], [22184.0, 9.0864], [22176.0, 0.1799], [22168.0, 9.6046], [22160.0, 0.533], [22115.0, 11.4669], [22108.0, 1.09], [22104.0, 3.6342], [22097.0, 3.57], [22094.0, 13.248], [22091.0, 9.9703], [22074.0, 16.4231]]\n",
      "we now have\n",
      "[99.16855284334764, 'USDT']\n",
      "get that money!\n",
      "final dough 99.16855284334764\n"
     ]
    }
   ],
   "source": [
    "import ccxt\n",
    "#loop starting and ending in usdt, alt then btc\n",
    "ftx = ccxt.ftxus()\n",
    "starting_dough = [100, 'usdt']\n",
    "uni_usdt = ftx.fetchOrderBook('UNI/USDT')\n",
    "uni_usdt_asks = uni_usdt['asks']\n",
    "\n",
    "# print(uni_usdt_asks[0])\n",
    "\n",
    "# TODO add logic where if we have more money than the first bid then we place an order lower\n",
    "if starting_dough[0] > (uni_usdt_asks[0][0]*uni_usdt_asks[0][1]):\n",
    "    print('we need to go deeper')\n",
    "else:\n",
    "    print('we now have')\n",
    "    mid1_dough = [starting_dough[0]/uni_usdt_asks[0][0], 'UNI']\n",
    "    print(mid1_dough)\n",
    "    print('spend all that dough')\n",
    "\n",
    "#logic for second trade newCoin to bitcoin\n",
    "uni_btc = ftx.fetchOrderBook('UNI/BTC')\n",
    "uni_btc_bids = uni_btc['bids']\n",
    "# print(uni_btc_bids)\n",
    "\n",
    "if mid1_dough[0] > (uni_btc_bids[0][1]):\n",
    "    print('we need to go deeper')\n",
    "else:\n",
    "    print('we now have')\n",
    "    mid2_dough = [mid1_dough[0]*uni_btc_bids[0][0], 'BTC']\n",
    "    print(mid2_dough)\n",
    "    print('spend all that dough')\n",
    "\n",
    "#logic for third trade bitcoin back to usdt\n",
    "btc_usdt = ftx.fetchOrderBook('BTC/USDT')\n",
    "btc_usdt_bids = btc_usdt['bids']\n",
    "print(btc_usdt_bids)\n",
    "\n",
    "if mid2_dough[0] > (btc_usdt_bids[0][1]):\n",
    "    print('we need to go deeper')\n",
    "else:\n",
    "    print('we now have')\n",
    "    final_dough = [mid2_dough[0]*btc_usdt_bids[0][0], 'USDT']\n",
    "    print(final_dough)\n",
    "    print('get that money!')\n",
    "\n",
    "print('final dough', final_dough[0])\n",
    "\n",
    "\n"
   ]
  },
  {
   "cell_type": "code",
   "execution_count": null,
   "metadata": {},
   "outputs": [],
   "source": [
    "import ccxt\n",
    "\n",
    "\n",
    "def usdt_alt_btc_usdt(exchange, alt, )"
   ]
  }
 ],
 "metadata": {
  "interpreter": {
   "hash": "570feb405e2e27c949193ac68f46852414290d515b0ba6e5d90d076ed2284471"
  },
  "kernelspec": {
   "display_name": "Python 3.8.2 64-bit",
   "language": "python",
   "name": "python3"
  },
  "language_info": {
   "codemirror_mode": {
    "name": "ipython",
    "version": 3
   },
   "file_extension": ".py",
   "mimetype": "text/x-python",
   "name": "python",
   "nbconvert_exporter": "python",
   "pygments_lexer": "ipython3",
   "version": "3.8.2"
  },
  "orig_nbformat": 4
 },
 "nbformat": 4,
 "nbformat_minor": 2
}
