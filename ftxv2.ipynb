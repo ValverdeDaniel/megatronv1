{
 "cells": [
  {
   "cell_type": "code",
   "execution_count": 2,
   "metadata": {},
   "outputs": [
    {
     "name": "stdout",
     "output_type": "stream",
     "text": [
      "Collecting ccxt\n",
      "  Downloading ccxt-1.86.11-py2.py3-none-any.whl (3.1 MB)\n",
      "Collecting yarl==1.7.2\n",
      "  Downloading yarl-1.7.2-cp39-cp39-win_amd64.whl (122 kB)\n",
      "Collecting setuptools>=60.9.0\n",
      "  Using cached setuptools-62.3.3-py3-none-any.whl (1.2 MB)\n",
      "Requirement already satisfied: certifi>=2018.1.18 in c:\\users\\fooba\\anaconda3\\lib\\site-packages (from ccxt) (2021.10.8)\n",
      "Requirement already satisfied: requests>=2.18.4 in c:\\users\\fooba\\anaconda3\\lib\\site-packages (from ccxt) (2.26.0)\n",
      "Requirement already satisfied: cryptography>=2.6.1 in c:\\users\\fooba\\anaconda3\\lib\\site-packages (from ccxt) (3.4.8)\n",
      "Collecting aiohttp>=3.8\n",
      "  Downloading aiohttp-3.8.1-cp39-cp39-win_amd64.whl (554 kB)\n",
      "Collecting aiodns>=1.1.1\n",
      "  Using cached aiodns-3.0.0-py3-none-any.whl (5.0 kB)\n",
      "Collecting multidict>=4.0\n",
      "  Downloading multidict-6.0.2-cp39-cp39-win_amd64.whl (28 kB)\n",
      "Requirement already satisfied: idna>=2.0 in c:\\users\\fooba\\anaconda3\\lib\\site-packages (from yarl==1.7.2->ccxt) (3.2)\n",
      "Collecting pycares>=4.0.0\n",
      "  Downloading pycares-4.1.2-cp39-cp39-win_amd64.whl (83 kB)\n",
      "Collecting aiosignal>=1.1.2\n",
      "  Using cached aiosignal-1.2.0-py3-none-any.whl (8.2 kB)\n",
      "Requirement already satisfied: charset-normalizer<3.0,>=2.0 in c:\\users\\fooba\\anaconda3\\lib\\site-packages (from aiohttp>=3.8->ccxt) (2.0.4)\n",
      "Collecting async-timeout<5.0,>=4.0.0a3\n",
      "  Using cached async_timeout-4.0.2-py3-none-any.whl (5.8 kB)\n",
      "Collecting frozenlist>=1.1.1\n",
      "  Downloading frozenlist-1.3.0-cp39-cp39-win_amd64.whl (33 kB)\n",
      "Requirement already satisfied: attrs>=17.3.0 in c:\\users\\fooba\\anaconda3\\lib\\site-packages (from aiohttp>=3.8->ccxt) (21.2.0)\n",
      "Requirement already satisfied: cffi>=1.12 in c:\\users\\fooba\\anaconda3\\lib\\site-packages (from cryptography>=2.6.1->ccxt) (1.14.6)\n",
      "Requirement already satisfied: pycparser in c:\\users\\fooba\\anaconda3\\lib\\site-packages (from cffi>=1.12->cryptography>=2.6.1->ccxt) (2.20)\n",
      "Requirement already satisfied: urllib3<1.27,>=1.21.1 in c:\\users\\fooba\\anaconda3\\lib\\site-packages (from requests>=2.18.4->ccxt) (1.26.7)\n",
      "Installing collected packages: multidict, frozenlist, yarl, pycares, async-timeout, aiosignal, setuptools, aiohttp, aiodns, ccxt\n",
      "  Attempting uninstall: setuptools\n",
      "    Found existing installation: setuptools 58.0.4\n",
      "    Uninstalling setuptools-58.0.4:\n",
      "      Successfully uninstalled setuptools-58.0.4\n",
      "Successfully installed aiodns-3.0.0 aiohttp-3.8.1 aiosignal-1.2.0 async-timeout-4.0.2 ccxt-1.86.11 frozenlist-1.3.0 multidict-6.0.2 pycares-4.1.2 setuptools-62.3.3 yarl-1.7.2\n"
     ]
    },
    {
     "name": "stderr",
     "output_type": "stream",
     "text": [
      "ERROR: pip's dependency resolver does not currently take into account all the packages that are installed. This behaviour is the source of the following dependency conflicts.\n",
      "spyder 5.1.5 requires pyqt5<5.13, which is not installed.\n",
      "spyder 5.1.5 requires pyqtwebengine<5.13, which is not installed.\n",
      "conda-repo-cli 1.0.4 requires pathlib, which is not installed.\n",
      "anaconda-project 0.10.1 requires ruamel-yaml, which is not installed.\n"
     ]
    }
   ],
   "source": [
    "!pip install ccxt"
   ]
  },
  {
   "cell_type": "code",
   "execution_count": null,
   "metadata": {},
   "outputs": [],
   "source": []
  },
  {
   "cell_type": "code",
   "execution_count": 3,
   "metadata": {},
   "outputs": [
    {
     "name": "stdout",
     "output_type": "stream",
     "text": [
      "{'id': 'ETH/USD', 'symbol': 'ETH/USD', 'base': 'ETH', 'quote': 'USD', 'baseId': 'ETH', 'quoteId': 'USD', 'active': True, 'type': 'spot', 'linear': None, 'inverse': None, 'spot': True, 'swap': False, 'future': False, 'option': False, 'margin': True, 'contract': False, 'contractSize': 1.0, 'expiry': None, 'expiryDatetime': None, 'optionType': None, 'strike': None, 'settle': None, 'settleId': None, 'precision': {'amount': 0.001, 'price': 0.1}, 'limits': {'leverage': {'min': 1.0, 'max': 20.0}, 'amount': {'min': 0.001, 'max': None}, 'price': {'min': None, 'max': None}, 'cost': {'min': None, 'max': None}}, 'info': {'name': 'ETH/USD', 'enabled': True, 'postOnly': False, 'priceIncrement': '0.1', 'sizeIncrement': '0.001', 'minProvideSize': '0.001', 'last': '1469.4', 'bid': '1468.8', 'ask': '1469.4', 'price': '1469.4', 'type': 'spot', 'baseCurrency': 'ETH', 'quoteCurrency': 'USD', 'underlying': None, 'restricted': False, 'highLeverageFeeExempt': True, 'largeOrderThreshold': '5000.0', 'change1h': '-0.008435117079425063', 'change24h': '-0.047452353169972775', 'changeBod': '-0.041299667253865725', 'quoteVolume24h': '52552053.5957', 'volumeUsd24h': '52552053.5957', 'priceHigh24h': '1551.0', 'priceLow24h': '1423.3'}, 'percentage': True, 'tierBased': True, 'maker': 0.0002, 'taker': 0.0007, 'tiers': {'taker': [[0.0, 0.0007], [2000000.0, 0.0006], [5000000.0, 0.00055], [10000000.0, 0.0005], [25000000.0, 0.0045], [50000000.0, 0.0004]], 'maker': [[0.0, 0.0002], [2000000.0, 0.00015], [5000000.0, 0.0001], [10000000.0, 5e-05], [25000000.0, 0.0], [50000000.0, 0.0]]}}\n"
     ]
    }
   ],
   "source": [
    "import ccxt\n",
    "#ftx api key and secret\n",
    "apiKey = 'G81GdgkuuKSEirOzjEWtzHrtwA80185s4UVCVNBj'\n",
    "apiSecret = 'rFVklFWKa-UypGmnG61Jl4YzT4zkCW733DLA8JN5'\n",
    "ftx = ccxt.ftxus()\n",
    "markets = ftx.load_markets()\n",
    "# print(binance.id, markets)\n",
    "# orderbookBTC = ftx.fetchOrderBooks('BTC/USDT', limit = 20)\n",
    "# print(orderbookBTC)\n",
    "ethusd = ftx.markets['ETH/USD']\n",
    "print(ethusd)\n"
   ]
  },
  {
   "cell_type": "markdown",
   "metadata": {},
   "source": [
    "Bitcoin Markets available"
   ]
  },
  {
   "cell_type": "code",
   "execution_count": 113,
   "metadata": {},
   "outputs": [
    {
     "name": "stdout",
     "output_type": "stream",
     "text": [
      "['AAVE/USD', 'AAVE/USDT', 'ALGO/USD', 'ALGO/USDT', 'AUD/USD', 'AVAX/BTC', 'AVAX/USD', 'AVAX/USDT', 'BAT/USD', 'BCH/BTC', 'BCH/USD', 'BCH/USDT', 'BRZ/USD', 'BRZ/USDT', 'BTC/AUD', 'BTC/BRZ', 'BTC/EUR', 'BTC/USD', 'BTC/USDT', 'CAD/USD', 'CUSDT/USD', 'CUSDT/USDT', 'DAI/USD', 'DAI/USDT', 'DOGE/BTC', 'DOGE/USD', 'DOGE/USDT', 'ETH/AUD', 'ETH/BTC', 'ETH/EUR', 'ETH/USD', 'ETH/USDT', 'EUR/USD', 'GBP/USD', 'GRT/USD', 'KSHIB/USD', 'LINK/BTC', 'LINK/USD', 'LINK/USDT', 'LTC/BTC', 'LTC/USD', 'LTC/USDT', 'MATIC/BTC', 'MATIC/USD', 'MKR/USD', 'NEAR/USD', 'NEAR/USDT', 'PAXG/USD', 'PAXG/USDT', 'SHIB/USD', 'SOL/BTC', 'SOL/USD', 'SOL/USDT', 'SUSHI/BTC', 'SUSHI/USD', 'SUSHI/USDT', 'TRX/USD', 'TRX/USDT', 'UNI/BTC', 'UNI/USD', 'UNI/USDT', 'USDT/USD', 'WBTC/USD', 'YFI/BTC', 'YFI/USD', 'YFI/USDT']\n"
     ]
    }
   ],
   "source": [
    "ftxMarkets = ftx.symbols\n",
    "print(ftxMarkets)"
   ]
  },
  {
   "cell_type": "code",
   "execution_count": 40,
   "metadata": {},
   "outputs": [
    {
     "name": "stdout",
     "output_type": "stream",
     "text": [
      "['AVAX', 'BCH', 'DOGE', 'ETH', 'LINK', 'LTC', 'MATIC', 'SOL', 'SUSHI', 'UNI', 'YFI']\n"
     ]
    }
   ],
   "source": [
    "ftxMarkets = ftx.symbols\n",
    "denominator = '/BTC'\n",
    "BTCmarkets = []\n",
    "# print(ftxMarkets)\n",
    "for entry in ftxMarkets:\n",
    "    if entry.endswith(denominator):\n",
    "        BTCmarkets.append(entry)\n",
    "BTCnumerators = [s.replace(denominator, \"\") for s in BTCmarkets]\n",
    "\n",
    "print(BTCnumerators)\n",
    "# print(ftx.symbols)"
   ]
  },
  {
   "cell_type": "markdown",
   "metadata": {},
   "source": [
    "USDT markets available"
   ]
  },
  {
   "cell_type": "code",
   "execution_count": 41,
   "metadata": {},
   "outputs": [
    {
     "name": "stdout",
     "output_type": "stream",
     "text": [
      "usdt denoms:  ['AAVE', 'ALGO', 'AVAX', 'BCH', 'BRZ', 'BTC', 'CUSDT', 'DAI', 'DOGE', 'ETH', 'LINK', 'LTC', 'NEAR', 'PAXG', 'SOL', 'SUSHI', 'TRX', 'UNI', 'YFI']\n"
     ]
    }
   ],
   "source": [
    "ftxMarkets = ftx.symbols\n",
    "# print(ftxMarkets)\n",
    "denominator = '/USDT'\n",
    "USDTmarkets = []\n",
    "for entry in ftxMarkets:\n",
    "    if entry.endswith(denominator):\n",
    "        USDTmarkets.append(entry)\n",
    "USDTnumerators = [s.replace(denominator, \"\") for s in USDTmarkets]\n",
    "print('usdt denoms: ', USDTnumerators)"
   ]
  },
  {
   "cell_type": "markdown",
   "metadata": {},
   "source": [
    "shared markets between bitcoin and usdt"
   ]
  },
  {
   "cell_type": "code",
   "execution_count": 45,
   "metadata": {},
   "outputs": [
    {
     "name": "stdout",
     "output_type": "stream",
     "text": [
      "['DOGE', 'BCH', 'YFI', 'ETH', 'SUSHI', 'UNI', 'AVAX', 'LTC', 'LINK', 'SOL']\n"
     ]
    }
   ],
   "source": [
    "sharedMarkets = list(set(USDTnumerators) & set(BTCnumerators))\n",
    "print(sharedMarkets)"
   ]
  },
  {
   "cell_type": "markdown",
   "metadata": {},
   "source": [
    "starting to work out the arbitrage logic"
   ]
  },
  {
   "cell_type": "code",
   "execution_count": 105,
   "metadata": {},
   "outputs": [
    {
     "name": "stdout",
     "output_type": "stream",
     "text": [
      "[[3.731, 211.4], [3.732, 134.5], [3.734, 1239.55], [3.737, 188.2], [3.74, 268.95], [3.744, 34.9], [3.747, 30.0], [3.748, 430.0], [3.75, 0.5], [3.755, 9.0], [3.77, 500.0], [3.777, 2035.35], [3.784, 0.5], [3.792, 1600.0], [3.797, 136.0], [3.815, 254.05], [3.818, 0.5], [3.837, 379.35], [3.852, 0.5], [3.868, 352.65]]\n",
      "3.731 , 211.4 , $:  788.7334  available\n",
      "3.732 , 134.5 , $:  501.954  available\n",
      "3.734 , 1239.55 , $:  4628.4797  available\n",
      "3.737 , 188.2 , $:  703.3034  available\n",
      "3.74 , 268.95 , $:  1005.873  available\n"
     ]
    }
   ],
   "source": [
    "starting = 100\n",
    "uni_usdt = ftx.fetchOrderBook('UNI/USDT')\n",
    "print(uni_usdt['asks'])\n",
    "for i in uni_usdt['asks'][:5]:\n",
    "    print(i[0], ',', i[1], ',', '$: ', i[0] * i[1], ' available')"
   ]
  },
  {
   "cell_type": "code",
   "execution_count": 128,
   "metadata": {},
   "outputs": [
    {
     "name": "stdout",
     "output_type": "stream",
     "text": [
      "we now have\n",
      "[27.159152634437806, 'UNI']\n",
      "spend all that dough\n",
      "we now have\n",
      "[0.004292504073872895, 'BTC']\n",
      "spend all that dough\n",
      "[[23212.0, 0.0841], [23211.0, 0.1389], [23205.0, 0.14], [23204.0, 0.0891], [23188.0, 0.1299], [23187.0, 0.2964], [23179.0, 0.535], [23088.0, 0.41], [23086.0, 4.9856], [23052.0, 1.38], [23000.0, 0.002], [22990.0, 9.5612], [22989.0, 1.5], [22986.0, 11.5346], [22985.0, 0.1857], [22970.0, 0.3553], [22954.0, 11.2847], [22949.0, 17.2045], [22940.0, 25.0416], [22897.0, 17.3995]]\n",
      "we now have\n",
      "[99.63760456273764, 'USDT']\n",
      "get that money!\n",
      "final dough 99.63760456273764\n"
     ]
    }
   ],
   "source": [
    "#loop starting and ending in usdt, alt then btc\n",
    "starting_dough = [100, 'usdt']\n",
    "uni_usdt = ftx.fetchOrderBook('UNI/USDT')\n",
    "uni_usdt_asks = uni_usdt['asks']\n",
    "\n",
    "# print(uni_usdt_asks[0])\n",
    "\n",
    "# TODO add logic where if we have more money than the first bid then we place an order lower\n",
    "if starting_dough[0] > (uni_usdt_asks[0][0]*uni_usdt_asks[0][1]):\n",
    "    print('we need to go deeper')\n",
    "else:\n",
    "    print('we now have')\n",
    "    mid1_dough = [starting_dough[0]/uni_usdt_asks[0][0], 'UNI']\n",
    "    print(mid1_dough)\n",
    "    print('spend all that dough')\n",
    "\n",
    "#logic for second trade newCoin to bitcoin\n",
    "uni_btc = ftx.fetchOrderBook('UNI/BTC')\n",
    "uni_btc_bids = uni_btc['bids']\n",
    "# print(uni_btc_bids)\n",
    "\n",
    "if mid1_dough[0] > (uni_btc_bids[0][1]):\n",
    "    print('we need to go deeper')\n",
    "else:\n",
    "    print('we now have')\n",
    "    mid2_dough = [mid1_dough[0]*uni_btc_bids[0][0], 'BTC']\n",
    "    print(mid2_dough)\n",
    "    print('spend all that dough')\n",
    "\n",
    "#logic for third trade bitcoin back to usdt\n",
    "btc_usdt = ftx.fetchOrderBook('BTC/USDT')\n",
    "btc_usdt_bids = btc_usdt['bids']\n",
    "print(btc_usdt_bids)\n",
    "\n",
    "if mid2_dough[0] > (btc_usdt_bids[0][1]):\n",
    "    print('we need to go deeper')\n",
    "else:\n",
    "    print('we now have')\n",
    "    final_dough = [mid2_dough[0]*btc_usdt_bids[0][0], 'USDT']\n",
    "    print(final_dough)\n",
    "    print('get that money!')\n",
    "\n",
    "print('final dough', final_dough[0])\n",
    "\n",
    "\n"
   ]
  },
  {
   "cell_type": "code",
   "execution_count": 129,
   "metadata": {},
   "outputs": [
    {
     "name": "stdout",
     "output_type": "stream",
     "text": [
      "we now have\n",
      "[0.004305148958153952, 'BTC']\n",
      "spend all that dough\n",
      "[[0.0001591, 271.75], [0.00015915, 409.35], [0.0001592, 476.05], [0.0001593, 680.55], [0.00015985, 28.1], [0.0001613, 0.35], [0.00016145, 203.85], [0.00016365, 0.5], [0.0001645, 191.7], [0.00016555, 352.4], [0.00016605, 0.5], [0.00016635, 272.7], [0.00016765, 42.3], [0.0001677, 18.8], [0.00016775, 105.5], [0.0001684, 0.5], [0.0001685, 391.55], [0.00016875, 378.25], [0.00016965, 47.8], [0.0001703, 390.6]]\n",
      "we now have mid2\n",
      "[27.05939005753584, 'UNI']\n",
      "spend all that dough\n",
      "we now have\n",
      "[99.38913968132914, 'USDT']\n",
      "get that money!\n",
      "final dough 99.38913968132914\n"
     ]
    }
   ],
   "source": [
    "\n",
    "#FIRST TRADE\n",
    "#loop starting and ending in usdt, BTC then ALT\n",
    "starting_dough = [100, 'usdt']\n",
    "btc_usdt = ftx.fetchOrderBook('BTC/USDT')\n",
    "btc_usdt_asks = btc_usdt['asks']\n",
    "\n",
    "# print(btc_usdt_asks[0])\n",
    "# TODO add logic where if we have more money than the first bid then we place an order lower\n",
    "if starting_dough[0] > (btc_usdt_asks[0][0]*btc_usdt_asks[0][1]):\n",
    "    print('we need to go deeper')\n",
    "else:\n",
    "    print('we now have')\n",
    "    mid1_dough = [starting_dough[0]/btc_usdt_asks[0][0], 'BTC']\n",
    "    print(mid1_dough)\n",
    "    print('spend all that dough')\n",
    "\n",
    "\n",
    "#SECOND TRADE\n",
    "#logic for second trade BTC to newCoin\n",
    "uni_btc = ftx.fetchOrderBook('UNI/BTC')\n",
    "uni_btc_asks = uni_btc['asks']\n",
    "print(uni_btc_asks)\n",
    "\n",
    "if mid1_dough[0] > (uni_btc_asks[0][0]*uni_btc_asks[0][1]):\n",
    "    print('we need to go deeper')\n",
    "else:\n",
    "    print('we now have mid2')\n",
    "    mid2_dough = [mid1_dough[0]/uni_btc_asks[0][0], 'UNI']\n",
    "    print(mid2_dough)\n",
    "    print('spend all that dough')\n",
    "\n",
    "# THIRD TRADE\n",
    "#logic for third trade bitcoin back to usdt\n",
    "uni_usdt = ftx.fetchOrderBook('UNI/USDT')\n",
    "uni_usdt_bids = uni_usdt['bids']\n",
    "# print(uni_usdt_bids)\n",
    "\n",
    "if mid2_dough[0] > (uni_usdt_bids[0][1]):\n",
    "    print('we need to go deeper')\n",
    "else:\n",
    "    print('we now have')\n",
    "    final_dough = [mid2_dough[0]*uni_usdt_bids[0][0], 'USDT']\n",
    "    print(final_dough)\n",
    "    print('get that money!')\n",
    "\n",
    "print('final dough', final_dough[0])\n",
    "\n"
   ]
  },
  {
   "cell_type": "code",
   "execution_count": 51,
   "metadata": {},
   "outputs": [
    {
     "name": "stdout",
     "output_type": "stream",
     "text": [
      "{'symbol': 'UNI/USDT', 'bids': [[4.08, 2557.6], [4.076, 3665.2], [4.072, 3668.8], [4.071, 163.75], [4.07, 3670.35], [4.06, 9.0], [4.057, 200.75], [4.056, 375.5], [4.05, 470.0], [4.038, 1670.0], [4.024, 295.75], [4.022, 0.5], [4.02, 1850.0], [4.014, 4.5], [4.013, 86.0], [4.001, 145.0], [3.988, 0.5], [3.983, 319.7], [3.981, 319.5], [3.978, 37.0]], 'asks': [[4.106, 550.2], [4.108, 1421.05], [4.11, 549.65], [4.115, 1100.95], [4.117, 1100.5], [4.124, 198.15], [4.128, 9.0], [4.131, 30.0], [4.136, 377.0], [4.145, 1550.0], [4.146, 56.0], [4.147, 480.0], [4.15, 142.0], [4.154, 288.35], [4.158, 0.5], [4.162, 1790.0], [4.172, 301.6], [4.174, 316.1], [4.192, 0.5], [4.226, 781.5]], 'timestamp': None, 'datetime': None, 'nonce': None}\n"
     ]
    }
   ],
   "source": [
    "# print(ftx.fetchOrderBook(str(ftx.symbols[0])))\n",
    "\n",
    "print(ftx.fetchOrderBook('UNI/USDT'))"
   ]
  }
 ],
 "metadata": {
  "interpreter": {
   "hash": "deb2fc3b7a79c00288712747267ecd2a2b552c99a2db2f88ef7b866d6588bf0d"
  },
  "kernelspec": {
   "display_name": "Python 3.9.7 ('base')",
   "language": "python",
   "name": "python3"
  },
  "language_info": {
   "codemirror_mode": {
    "name": "ipython",
    "version": 3
   },
   "file_extension": ".py",
   "mimetype": "text/x-python",
   "name": "python",
   "nbconvert_exporter": "python",
   "pygments_lexer": "ipython3",
   "version": "3.9.7"
  },
  "orig_nbformat": 4
 },
 "nbformat": 4,
 "nbformat_minor": 2
}
